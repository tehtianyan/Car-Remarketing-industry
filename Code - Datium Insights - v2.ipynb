{
 "cells": [
  {
   "cell_type": "markdown",
   "id": "975f12f1",
   "metadata": {},
   "source": [
    "# Goal: Predict vehicle sale prices (Sold_amount)\n",
    "\n",
    "1. Highlight errors and concerns with the data\n",
    "\n",
    "2. Feature selection / engineering. \n",
    "Warning: Cannot use AvgWholesale, AvgRetail, GoodWholesale, GoodRetail, TradeMin, TradeMax, PrivateMax. This will result in overfitting.\n",
    "\n",
    "3. Different ways of evaluting and diagnosing the model."
   ]
  },
  {
   "cell_type": "code",
   "execution_count": null,
   "id": "d573fc27",
   "metadata": {},
   "outputs": [],
   "source": [
    "!pip3 install dataprep"
   ]
  },
  {
   "cell_type": "code",
   "execution_count": null,
   "id": "92417b13",
   "metadata": {},
   "outputs": [],
   "source": [
    "import numpy as np\n",
    "import pandas as pd\n",
    "import matplotlib.pyplot as plt\n",
    "import seaborn as sns\n",
    "import dataprep\n",
    "\n",
    "from scipy.stats import ttest_1samp, ttest_ind\n",
    "from dataprep.eda import create_report"
   ]
  },
  {
   "cell_type": "code",
   "execution_count": null,
   "id": "9cfb14ae",
   "metadata": {},
   "outputs": [],
   "source": [
    "# Quicklook Function\n",
    "def ql(df, rows=5):\n",
    "    \"\"\"\n",
    "    DataFrame Quicklook\n",
    "    \n",
    "    Prints shape of dataframe as well as top or bottom X rows.\n",
    "    Inputs:\n",
    "    - df  : dataframe\n",
    "    - rows: number of rows, default = 5\n",
    "    - part: \"head\" or \"tail\", default = \"head\"\n",
    "    \n",
    "    Outputs:\n",
    "    - top and bottom rows\n",
    "    \"\"\"\n",
    "    \n",
    "    # Print dataframe dimensions\n",
    "    print(df.shape)\n",
    "    print(df.head(rows))\n",
    "    print(df.tail(rows))\n",
    "    "
   ]
  },
  {
   "cell_type": "code",
   "execution_count": null,
   "id": "06b24b09",
   "metadata": {},
   "outputs": [],
   "source": [
    "data = pd.read_csv('DatiumSample.rpt', delimiter=\"\\t\")"
   ]
  },
  {
   "cell_type": "code",
   "execution_count": null,
   "id": "5f457a8d",
   "metadata": {},
   "outputs": [],
   "source": [
    "# To preview the data\n",
    "data.to_csv(\"raw_data.csv\")"
   ]
  },
  {
   "cell_type": "code",
   "execution_count": null,
   "id": "da54b400",
   "metadata": {},
   "outputs": [],
   "source": [
    "df = data.copy()"
   ]
  },
  {
   "cell_type": "code",
   "execution_count": null,
   "id": "6767a405",
   "metadata": {},
   "outputs": [],
   "source": [
    "df.info()"
   ]
  },
  {
   "cell_type": "markdown",
   "id": "f0384610",
   "metadata": {},
   "source": [
    "### Noticed some columns had a lot of null values"
   ]
  },
  {
   "cell_type": "code",
   "execution_count": null,
   "id": "4b10c00b",
   "metadata": {},
   "outputs": [],
   "source": [
    "df.isnull().mean().round(4).mul(100).sort_values(ascending=False)"
   ]
  },
  {
   "cell_type": "code",
   "execution_count": null,
   "id": "cef2adec",
   "metadata": {},
   "outputs": [],
   "source": [
    "# Noticed there are a lot of missing values in certain columns.\n",
    "# Start with a crude method of removing any columns with less than 80% values\n",
    "df.dropna(thresh=df.shape[0]*0.8, how='all', axis=1, inplace = True)"
   ]
  },
  {
   "cell_type": "code",
   "execution_count": null,
   "id": "cbd86130",
   "metadata": {},
   "outputs": [],
   "source": [
    "# Noticed there were 4 missing values in the response variable\n",
    "df.dropna(subset=[\"Sold_Amount\"], inplace= True)"
   ]
  },
  {
   "cell_type": "code",
   "execution_count": null,
   "id": "43cff4aa",
   "metadata": {},
   "outputs": [],
   "source": [
    "# From the correlation matrix\n",
    "\n",
    "#Drop the collinear categorical data.\n",
    "df.drop([\"MakeCode\",\"FamilyCode\", \"DriveCode\"], axis=1, inplace= True)\n",
    "    # , \"TareMass\", \"GrossVehicleMass\"\n",
    "    # ,\"GrossCombinationMAss\", \"FuelCapacity\", \"WheelBase\", \"Height\", \"Length\", \"Width\", \"EngineSize\"\n",
    "\n",
    "#Drop the sparse columns\n",
    "df.drop([\"MonthGroup\"], axis=1, inplace= True) # 73.3% is missing through \"0\".\n",
    "\n",
    "#Drop the collinear continuous data\n",
    "df.drop([\"GoodKM\", \"AvgRetail\", \"GoodRetail\", \"PrivateMax\", \"NewPrice\", \"GoodWholesale\"\n",
    "         #, \"AvgWholesale\",  \"TradeMin\", \"TradeMax\"\n",
    "         #, \"Cylinders\", \"TorqueRPMTo\", \"AirpollutionRating\", \"OverallGreenStarRating\"\n",
    "        ], axis=1, inplace= True)\n",
    "\n",
    "#Drop collinear with predictor \n",
    "#df.drop([\"CO2Combined\", \"FuelUrban\", \"FuelExtraurban\", \"FuelCombined\", \"TowingBrakes\", \"TowingNoBrakes\", \"Torque\"], axis=1, inplace= True)\n",
    "#\"CO2Urban\", \"CO2ExtraUrban\", \n",
    "\n",
    "#Drop the constants\n",
    "df.drop([\"ImportFlag\"], axis=1, inplace= True)"
   ]
  },
  {
   "cell_type": "code",
   "execution_count": null,
   "id": "2d002601",
   "metadata": {},
   "outputs": [],
   "source": [
    "df.describe()"
   ]
  },
  {
   "cell_type": "code",
   "execution_count": null,
   "id": "eefb3cd1",
   "metadata": {},
   "outputs": [],
   "source": [
    "df = df[df[\"Sold_Amount\"]>99]"
   ]
  },
  {
   "cell_type": "code",
   "execution_count": null,
   "id": "0dccb2ea",
   "metadata": {},
   "outputs": [],
   "source": [
    "df[\"log_SequenceNum\"] = np.log(df[\"SequenceNum\"])\n",
    "df[\"log_Age_Comp_Months\"] = np.log(df[\"Age_Comp_Months\"])\n",
    "df[\"log_KM\"] = np.log(df[\"KM\"])\n",
    "df[\"log_sold_amount\"] = np.log(df[\"Sold_Amount\"])\n"
   ]
  },
  {
   "cell_type": "code",
   "execution_count": null,
   "id": "21cdc90d",
   "metadata": {},
   "outputs": [],
   "source": [
    "df.drop(columns=[\"SequenceNum\"], inplace=True)\n",
    "df.drop(columns=[\"Age_Comp_Months\"], inplace=True)\n",
    "df.drop(columns=[\"KM\"], inplace=True)\n",
    "df.drop(columns=[\"Sold_Amount\"], inplace=True)"
   ]
  },
  {
   "cell_type": "code",
   "execution_count": null,
   "id": "ed6a702a",
   "metadata": {},
   "outputs": [],
   "source": [
    "df[\"Compliance_Date\"] = pd.to_datetime(df[\"Compliance_Date\"])\n",
    "df[\"Sold_Date\"] = pd.to_datetime(df[\"Sold_Date\"])"
   ]
  },
  {
   "cell_type": "code",
   "execution_count": null,
   "id": "f22d968b",
   "metadata": {
    "scrolled": true
   },
   "outputs": [],
   "source": [
    "create_report(df)"
   ]
  },
  {
   "cell_type": "markdown",
   "id": "fe075ecc",
   "metadata": {},
   "source": [
    "# Missing values\n",
    "\n",
    "Little's MCAR test for Python:\n",
    "https://www.kaggle.com/yassirarezki/handling-missing-data-mcar-mar-and-mnar-part-i"
   ]
  },
  {
   "cell_type": "code",
   "execution_count": null,
   "id": "73a3f812",
   "metadata": {},
   "outputs": [],
   "source": [
    "plt.figure(figsize=(10,8))\n",
    "sns.heatmap(df.isna().transpose(),\n",
    "            cmap=\"YlGnBu\",\n",
    "            cbar_kws={'label': 'Missing Data'})\n",
    "plt.savefig(\"visualizing_missing_data_with_heatmap_Seaborn_Python.png\", dpi=100)\n",
    "\n",
    "#Missing values + descriptive statistics after"
   ]
  },
  {
   "cell_type": "markdown",
   "id": "62ec5932",
   "metadata": {},
   "source": [
    "\n",
    "# Concerns with data\n",
    "\n",
    "1. Data sparsity"
   ]
  }
 ],
 "metadata": {
  "kernelspec": {
   "display_name": "Python 3",
   "language": "python",
   "name": "python3"
  },
  "language_info": {
   "codemirror_mode": {
    "name": "ipython",
    "version": 3
   },
   "file_extension": ".py",
   "mimetype": "text/x-python",
   "name": "python",
   "nbconvert_exporter": "python",
   "pygments_lexer": "ipython3",
   "version": "3.8.8"
  }
 },
 "nbformat": 4,
 "nbformat_minor": 5
}
